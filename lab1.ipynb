{
  "nbformat": 4,
  "nbformat_minor": 0,
  "metadata": {
    "colab": {
      "name": "lab1.ipynb",
      "provenance": [],
      "collapsed_sections": [],
      "authorship_tag": "ABX9TyOfDhOHBWbqopJLvQBIF3Pk",
      "include_colab_link": true
    },
    "kernelspec": {
      "name": "python3",
      "display_name": "Python 3"
    },
    "language_info": {
      "name": "python"
    }
  },
  "cells": [
    {
      "cell_type": "markdown",
      "metadata": {
        "id": "view-in-github",
        "colab_type": "text"
      },
      "source": [
        "<a href=\"https://colab.research.google.com/github/Ajees2453/PythonLab/blob/main/lab1.ipynb\" target=\"_parent\"><img src=\"https://colab.research.google.com/assets/colab-badge.svg\" alt=\"Open In Colab\"/></a>"
      ]
    },
    {
      "cell_type": "code",
      "source": [
        "num1=input('enter first number:')\n",
        "num2=input('enter second number')\n",
        "sum=float(num1)+float (num2)\n",
        "print('the sum of {0} and {1} is {2}'.format(num1,num2,sum))"
      ],
      "metadata": {
        "colab": {
          "base_uri": "https://localhost:8080/"
        },
        "id": "PNdW8AWF-r2y",
        "outputId": "2e9f261b-81da-439b-f119-553ff026b2ec"
      },
      "execution_count": null,
      "outputs": [
        {
          "output_type": "stream",
          "name": "stdout",
          "text": [
            "enter first number:2.5\n",
            "enter second number7.3\n",
            "the sum of 2.5 and 7.3 is 9.8\n"
          ]
        }
      ]
    },
    {
      "cell_type": "code",
      "source": [
        "num=9\n",
        "num_sqrt=num**0.5\n",
        "print('the square root of %0.3f is %0.3f'%(num,num_sqrt))\n"
      ],
      "metadata": {
        "colab": {
          "base_uri": "https://localhost:8080/"
        },
        "id": "cvUNDWL1-yxN",
        "outputId": "679cccd5-e910-4430-d62c-60aa266800a4"
      },
      "execution_count": null,
      "outputs": [
        {
          "output_type": "stream",
          "name": "stdout",
          "text": [
            "the square root of 9.000 is 3.000\n"
          ]
        }
      ]
    },
    {
      "cell_type": "code",
      "source": [
        "import cmath\n",
        "num=1+2j\n",
        "num_sqrt=cmath.sqrt(num)\n",
        "print('the sequence root of {0} is {1:0.3f}+{2:0.3f}j'.format(num,num_sqrt.real,num_sqrt.imag))"
      ],
      "metadata": {
        "colab": {
          "base_uri": "https://localhost:8080/"
        },
        "id": "bz8v1B79-3Nr",
        "outputId": "9b8a6174-1f8c-4e5a-a47a-4594adcd9177"
      },
      "execution_count": null,
      "outputs": [
        {
          "output_type": "stream",
          "name": "stdout",
          "text": [
            "the sequence root of (1+2j) is 1.272+0.786j\n"
          ]
        }
      ]
    },
    {
      "cell_type": "code",
      "source": [
        "a=5\n",
        "b=6\n",
        "c=7\n",
        "s=(a+b+c)/2\n",
        "area=(s*(s-a)*(s-b)*(s-c))**0.5\n",
        "print('the area of the triangle is %0.2f'%area)"
      ],
      "metadata": {
        "colab": {
          "base_uri": "https://localhost:8080/"
        },
        "id": "K_7yMRy_-_Ks",
        "outputId": "2239d473-c9e5-43e3-fb17-865f73ab324a"
      },
      "execution_count": null,
      "outputs": [
        {
          "output_type": "stream",
          "name": "stdout",
          "text": [
            "the area of the triangle is 14.70\n"
          ]
        }
      ]
    },
    {
      "cell_type": "code",
      "source": [
        "x=5\n",
        "y=10\n",
        "temp=x\n",
        "x=y\n",
        "y=temp\n",
        "print('the value of x after swapping:{}'.format(x))\n",
        "print('the value of y after swapping:{}'.format(y))"
      ],
      "metadata": {
        "colab": {
          "base_uri": "https://localhost:8080/"
        },
        "id": "ClDXSxT-_EtV",
        "outputId": "32d511ae-6a14-4ffb-ce34-ced949f281b3"
      },
      "execution_count": null,
      "outputs": [
        {
          "output_type": "stream",
          "name": "stdout",
          "text": [
            "the value of x after swapping:10\n",
            "the value of y after swapping:5\n"
          ]
        }
      ]
    },
    {
      "cell_type": "code",
      "source": [
        "a,b,c=5,3.2,\"hello\"\n",
        "print(a)\n",
        "print(b)\n",
        "print(c)"
      ],
      "metadata": {
        "colab": {
          "base_uri": "https://localhost:8080/"
        },
        "id": "jeKRS4XI_I9t",
        "outputId": "2719f305-cf75-4db0-bd50-5119463352c5"
      },
      "execution_count": null,
      "outputs": [
        {
          "output_type": "stream",
          "name": "stdout",
          "text": [
            "5\n",
            "3.2\n",
            "hello\n"
          ]
        }
      ]
    },
    {
      "cell_type": "code",
      "source": [
        "x=y=z=\"same\"\n",
        "print(x)\n",
        "print(y)\n",
        "print(z)"
      ],
      "metadata": {
        "colab": {
          "base_uri": "https://localhost:8080/"
        },
        "id": "23x7_7rV_Qf9",
        "outputId": "05de1af8-c78d-4c3a-cfc7-22870d5f6480"
      },
      "execution_count": null,
      "outputs": [
        {
          "output_type": "stream",
          "name": "stdout",
          "text": [
            "same\n",
            "same\n",
            "same\n"
          ]
        }
      ]
    },
    {
      "cell_type": "code",
      "source": [
        "x=(1==True)\n",
        "y=(1==False)\n",
        "a=True+4\n",
        "b=False+10\n",
        "print(\"x is\",x)\n",
        "print(\"y is\",y)\n",
        "print(\"a:\",a)\n",
        "print(\"b:\",b)"
      ],
      "metadata": {
        "colab": {
          "base_uri": "https://localhost:8080/"
        },
        "id": "d32_Rt7u_Vy4",
        "outputId": "a9616a8a-a616-49e2-89be-403ddabd8975"
      },
      "execution_count": null,
      "outputs": [
        {
          "output_type": "stream",
          "name": "stdout",
          "text": [
            "x is True\n",
            "y is False\n",
            "a: 5\n",
            "b: 10\n"
          ]
        }
      ]
    },
    {
      "cell_type": "code",
      "execution_count": null,
      "metadata": {
        "colab": {
          "base_uri": "https://localhost:8080/"
        },
        "id": "m7iL6-dYyHbF",
        "outputId": "fedf88be-a4af-422c-b74b-eb83114eac9c"
      },
      "outputs": [
        {
          "output_type": "stream",
          "name": "stdout",
          "text": [
            "{0, 2, 4, 6, 8, 10, 12, 14, 16, 18}\n",
            "{0: 0, 1: 1, 2: 4, 3: 9, 4: 16, 5: 25, 6: 36, 7: 49, 8: 64, 9: 81}\n"
          ]
        }
      ],
      "source": [
        "test_dict ={i:i*i for i in range(10)}\n",
        "test_set={i*2 for i in range(10)}\n",
        "print(test_set)\n",
        "print(test_dict)\n"
      ]
    },
    {
      "cell_type": "code",
      "source": [
        "def max_of_two( x, y ):\n",
        "    if x > y:\n",
        "        return x\n",
        "    return y\n",
        "def max_of_three( x, y, z ):\n",
        "    return max_of_two( x, max_of_two( y, z ) )\n",
        "print(max_of_three(3, 6, -5))"
      ],
      "metadata": {
        "colab": {
          "base_uri": "https://localhost:8080/"
        },
        "id": "6pG0AJ3Fy8MK",
        "outputId": "f6881d31-eac1-489f-a3ed-88363bbc2c06"
      },
      "execution_count": null,
      "outputs": [
        {
          "output_type": "stream",
          "name": "stdout",
          "text": [
            "6\n"
          ]
        }
      ]
    },
    {
      "cell_type": "code",
      "source": [
        "def sum(numbers):\n",
        "    total = 0\n",
        "    for x in numbers:\n",
        "        total += x\n",
        "    return total\n",
        "print(sum((8, 2, 3, 0, 7)))\n"
      ],
      "metadata": {
        "colab": {
          "base_uri": "https://localhost:8080/"
        },
        "id": "9PVT_oAW06b1",
        "outputId": "b38959be-ebc8-410d-a486-38481ce156d0"
      },
      "execution_count": null,
      "outputs": [
        {
          "output_type": "stream",
          "name": "stdout",
          "text": [
            "20\n"
          ]
        }
      ]
    },
    {
      "cell_type": "code",
      "source": [
        "def multiply(numbers):  \n",
        "    total = 1\n",
        "    for x in numbers:\n",
        "        total *= x  \n",
        "    return total  \n",
        "print(multiply((8, 2, 3, -1, 7)))"
      ],
      "metadata": {
        "colab": {
          "base_uri": "https://localhost:8080/"
        },
        "id": "taKkuw-T0-dz",
        "outputId": "81f45a53-51fb-4f51-91b9-adc89ed8790d"
      },
      "execution_count": null,
      "outputs": [
        {
          "output_type": "stream",
          "name": "stdout",
          "text": [
            "-336\n"
          ]
        }
      ]
    },
    {
      "cell_type": "code",
      "source": [
        "def string_reverse(str1):\n",
        "    rstr1 = ''\n",
        "    index = len(str1)\n",
        "    while index > 0:\n",
        "        rstr1 += str1[ index - 1 ]\n",
        "        index = index - 1\n",
        "    return rstr1\n",
        "print(string_reverse('1234abcd'))"
      ],
      "metadata": {
        "colab": {
          "base_uri": "https://localhost:8080/"
        },
        "id": "5-8Kqw9B1KHL",
        "outputId": "08f5bd5d-1fc6-4e9f-8ba6-6dd50442e47b"
      },
      "execution_count": null,
      "outputs": [
        {
          "output_type": "stream",
          "name": "stdout",
          "text": [
            "dcba4321\n"
          ]
        }
      ]
    },
    {
      "cell_type": "code",
      "source": [
        "def factorial(n):\n",
        "    if n == 0:\n",
        "        return 1\n",
        "    else:\n",
        "        return n * factorial(n-1)\n",
        "n=int(input(\"Input a number to compute the factiorial : \"))\n",
        "print(factorial(n))\n",
        "\n"
      ],
      "metadata": {
        "colab": {
          "base_uri": "https://localhost:8080/"
        },
        "id": "-ByIs-cO1uZm",
        "outputId": "3b6c3829-7dd4-43a4-e05e-3e816fe1901a"
      },
      "execution_count": null,
      "outputs": [
        {
          "output_type": "stream",
          "name": "stdout",
          "text": [
            "Input a number to compute the factiorial : 8\n",
            "40320\n"
          ]
        }
      ]
    },
    {
      "cell_type": "code",
      "source": [
        "def test_range(n):\n",
        "    if n in range(3,9):\n",
        "        print( \" %s is in the range\"%str(n))\n",
        "    else :\n",
        "        print(\"The number is outside the given range.\")\n",
        "test_range(5)\n"
      ],
      "metadata": {
        "id": "MeDRCvjN17gT",
        "colab": {
          "base_uri": "https://localhost:8080/"
        },
        "outputId": "f3c82fac-b304-4221-aca9-e7f975b9b451"
      },
      "execution_count": null,
      "outputs": [
        {
          "output_type": "stream",
          "name": "stdout",
          "text": [
            " 5 is in the range\n"
          ]
        }
      ]
    },
    {
      "cell_type": "code",
      "source": [
        "def string_test(s):\n",
        "    d={\"UPPER_CASE\":0, \"LOWER_CASE\":0}\n",
        "    for c in s:\n",
        "        if c.isupper():\n",
        "           d[\"UPPER_CASE\"]+=1\n",
        "        elif c.islower():\n",
        "           d[\"LOWER_CASE\"]+=1\n",
        "        else:\n",
        "           pass\n",
        "    print (\"Original String : \", s)\n",
        "    print (\"No. of Upper case characters : \", d[\"UPPER_CASE\"])\n",
        "    print (\"No. of Lower case Characters : \", d[\"LOWER_CASE\"])\n",
        "string_test('The quick Brown Fox')\n"
      ],
      "metadata": {
        "colab": {
          "base_uri": "https://localhost:8080/"
        },
        "id": "L7n_emMG3Jau",
        "outputId": "8d6ab780-5827-4ffc-f13c-2cd08d9efd7d"
      },
      "execution_count": null,
      "outputs": [
        {
          "output_type": "stream",
          "name": "stdout",
          "text": [
            "Original String :  The quick Brown Fox\n",
            "No. of Upper case characters :  3\n",
            "No. of Lower case Characters :  13\n"
          ]
        }
      ]
    },
    {
      "cell_type": "code",
      "source": [
        "def unique_list(l):\n",
        "  x = []\n",
        "  for a in l:\n",
        "    if a not in x:\n",
        "      x.append(a)\n",
        "  return x\n",
        "print(unique_list([1,2,3,3,3,3,4,5])) \n"
      ],
      "metadata": {
        "colab": {
          "base_uri": "https://localhost:8080/"
        },
        "id": "VjFnCKg33WjO",
        "outputId": "37c5f265-e79a-4e00-e025-76f548532339"
      },
      "execution_count": null,
      "outputs": [
        {
          "output_type": "stream",
          "name": "stdout",
          "text": [
            "[1, 2, 3, 4, 5]\n"
          ]
        }
      ]
    },
    {
      "cell_type": "code",
      "source": [
        "def test_prime(n):\n",
        "    if (n==1):\n",
        "        return False\n",
        "    elif (n==2):\n",
        "        return True;\n",
        "    else:\n",
        "        for x in range(2,n):\n",
        "            if(n % x==0):\n",
        "                return False\n",
        "        return True             \n",
        "print(test_prime(9))\n"
      ],
      "metadata": {
        "colab": {
          "base_uri": "https://localhost:8080/"
        },
        "id": "zZmUOclh4EGp",
        "outputId": "1e299ef6-0bf3-49b2-9768-482f127f8063"
      },
      "execution_count": null,
      "outputs": [
        {
          "output_type": "stream",
          "name": "stdout",
          "text": [
            "False\n"
          ]
        }
      ]
    },
    {
      "cell_type": "code",
      "source": [
        "def is_even_num(l):\n",
        "    enum = []\n",
        "    for n in l:\n",
        "        if n % 2 == 0:\n",
        "            enum.append(n)\n",
        "    return enum\n",
        "print(is_even_num([1, 2, 3, 4, 5, 6, 7, 8, 9]))\n",
        "     "
      ],
      "metadata": {
        "colab": {
          "base_uri": "https://localhost:8080/"
        },
        "id": "SQhjmyjP4it1",
        "outputId": "ec8f2234-d24b-40ac-c158-aa953392ea2c"
      },
      "execution_count": null,
      "outputs": [
        {
          "output_type": "stream",
          "name": "stdout",
          "text": [
            "[2, 4, 6, 8]\n"
          ]
        }
      ]
    },
    {
      "cell_type": "code",
      "source": [
        "def perfect_number(n):\n",
        "    sum = 0\n",
        "    for x in range(1, n):\n",
        "        if n % x == 0:\n",
        "            sum += x\n",
        "    return sum == n\n",
        "print(perfect_number(6))\n"
      ],
      "metadata": {
        "colab": {
          "base_uri": "https://localhost:8080/"
        },
        "id": "oUwJTDcQ5piG",
        "outputId": "5947c618-25fe-455b-e978-3dc864086839"
      },
      "execution_count": null,
      "outputs": [
        {
          "output_type": "stream",
          "name": "stdout",
          "text": [
            "True\n"
          ]
        }
      ]
    },
    {
      "cell_type": "code",
      "source": [
        "def isPalindrome(string):\n",
        "\tleft_pos = 0\n",
        "\tright_pos = len(string) - 1\n",
        "\t\n",
        "\twhile right_pos >= left_pos:\n",
        "\t\tif not string[left_pos] == string[right_pos]:\n",
        "\t\t\treturn False\n",
        "\t\tleft_pos += 1\n",
        "\t\tright_pos -= 1\n",
        "\treturn True\n",
        "print(isPalindrome('aza')) \n"
      ],
      "metadata": {
        "colab": {
          "base_uri": "https://localhost:8080/"
        },
        "id": "DXxgh7_S52Ck",
        "outputId": "58276981-05c2-432d-8dea-39f4a2c602c9"
      },
      "execution_count": null,
      "outputs": [
        {
          "output_type": "stream",
          "name": "stdout",
          "text": [
            "True\n"
          ]
        }
      ]
    },
    {
      "cell_type": "code",
      "source": [
        "def pascal_triangle(n):\n",
        "   trow = [1]\n",
        "   y = [0]\n",
        "   for x in range(max(n,0)):\n",
        "      print(trow)\n",
        "      trow=[l+r for l,r in zip(trow+y, y+trow)]\n",
        "   return n>=1\n",
        "pascal_triangle(6) \n"
      ],
      "metadata": {
        "colab": {
          "base_uri": "https://localhost:8080/"
        },
        "id": "ZaKocJY557rc",
        "outputId": "d1dfddc8-29f6-4cfe-a31c-1ff82a2a256a"
      },
      "execution_count": null,
      "outputs": [
        {
          "output_type": "stream",
          "name": "stdout",
          "text": [
            "[1]\n",
            "[1, 1]\n",
            "[1, 2, 1]\n",
            "[1, 3, 3, 1]\n",
            "[1, 4, 6, 4, 1]\n",
            "[1, 5, 10, 10, 5, 1]\n"
          ]
        },
        {
          "output_type": "execute_result",
          "data": {
            "text/plain": [
              "True"
            ]
          },
          "metadata": {},
          "execution_count": 25
        }
      ]
    },
    {
      "cell_type": "code",
      "source": [
        "import string, sys\n",
        "def ispangram(str1, alphabet=string.ascii_lowercase):\n",
        "    alphaset = set(alphabet)\n",
        "    return alphaset <= set(str1.lower())\n",
        " \n",
        "print ( ispangram('The quick brown fox jumps over the lazy dog')) \n"
      ],
      "metadata": {
        "colab": {
          "base_uri": "https://localhost:8080/"
        },
        "id": "1v_Co5BL6FHW",
        "outputId": "cd780993-0eb4-4863-e58c-1b9bc3c3234a"
      },
      "execution_count": null,
      "outputs": [
        {
          "output_type": "stream",
          "name": "stdout",
          "text": [
            "True\n"
          ]
        }
      ]
    },
    {
      "cell_type": "code",
      "source": [
        "items=[n for n in input().split('-')]\n",
        "items.sort()\n",
        "print('-'.join(items))\n"
      ],
      "metadata": {
        "colab": {
          "base_uri": "https://localhost:8080/"
        },
        "id": "4JKl_Jt16Udk",
        "outputId": "5250df09-6011-4545-f53c-bfb4eb9a6034"
      },
      "execution_count": null,
      "outputs": [
        {
          "output_type": "stream",
          "name": "stdout",
          "text": [
            "green-red-black-white\n",
            "black-green-red-white\n"
          ]
        }
      ]
    },
    {
      "cell_type": "code",
      "source": [
        "def printValues():\n",
        "\tl = list()\n",
        "\tfor i in range(1,21):\n",
        "\t\tl.append(i**2)\n",
        "\tprint(l)\n",
        "\t\t\n",
        "printValues()\n"
      ],
      "metadata": {
        "colab": {
          "base_uri": "https://localhost:8080/"
        },
        "id": "okPnod1t620Z",
        "outputId": "2f23787e-0e62-4433-a85b-5a68e0b34a61"
      },
      "execution_count": null,
      "outputs": [
        {
          "output_type": "stream",
          "name": "stdout",
          "text": [
            "[1, 4, 9, 16, 25, 36, 49, 64, 81, 100, 121, 144, 169, 196, 225, 256, 289, 324, 361, 400]\n"
          ]
        }
      ]
    },
    {
      "cell_type": "code",
      "source": [
        "def make_bold(fn):\n",
        "    def wrapped():\n",
        "        return \"<b>\" + fn() + \"</b>\"\n",
        "    return wrapped\n",
        "def make_italic(fn):\n",
        "    def wrapped():\n",
        "        return \"<i>\" + fn() + \"</i>\"\n",
        "    return wrapped\n",
        "def make_underline(fn):\n",
        "    def wrapped():\n",
        "        return \"<u>\" + fn() + \"</u>\"\n",
        "    return wrapped\n",
        "@make_bold\n",
        "@make_italic\n",
        "@make_underline\n",
        "def hello():\n",
        "    return \"hello world\"\n",
        "print(hello()) "
      ],
      "metadata": {
        "colab": {
          "base_uri": "https://localhost:8080/"
        },
        "id": "Sjqim1EA6jyF",
        "outputId": "9c5ba783-b962-4ac7-facf-474317fa3efb"
      },
      "execution_count": null,
      "outputs": [
        {
          "output_type": "stream",
          "name": "stdout",
          "text": [
            "<b><i><u>hello world</u></i></b>\n"
          ]
        }
      ]
    },
    {
      "cell_type": "code",
      "source": [
        "mycode = 'print(\"hello world\")'\n",
        "code = \"\"\"\n",
        "def mutiply(x,y):\n",
        "    return x*y\n",
        "print('Multiply of 2 and 3 is: ',mutiply(2,3))\n",
        "\"\"\"\n",
        "exec(mycode)\n",
        "exec(code)\n"
      ],
      "metadata": {
        "colab": {
          "base_uri": "https://localhost:8080/"
        },
        "id": "0Rw1Yb9p76yM",
        "outputId": "014275bd-2ab9-4eaa-be2e-5ef017a8db88"
      },
      "execution_count": null,
      "outputs": [
        {
          "output_type": "stream",
          "name": "stdout",
          "text": [
            "hello world\n",
            "Multiply of 2 and 3 is:  6\n"
          ]
        }
      ]
    },
    {
      "cell_type": "code",
      "source": [
        "def test(a):\n",
        "        def add(b):\n",
        "                nonlocal a\n",
        "                a += 1\n",
        "                return a+b\n",
        "        return add\n",
        "func= test(4)\n",
        "print(func(4))\n"
      ],
      "metadata": {
        "colab": {
          "base_uri": "https://localhost:8080/"
        },
        "id": "gWZoI8Uk8GM7",
        "outputId": "b1fc5557-579b-48c1-e4ec-07ecc9dc5e00"
      },
      "execution_count": null,
      "outputs": [
        {
          "output_type": "stream",
          "name": "stdout",
          "text": [
            "9\n"
          ]
        }
      ]
    },
    {
      "cell_type": "code",
      "source": [
        "def abc():\n",
        "    x = 1\n",
        "    y = 2\n",
        "    str1= \"w3resource\"\n",
        "    print(\"Python Exercises\")\n",
        "\n",
        "print(abc.__code__.co_nlocals)\n"
      ],
      "metadata": {
        "colab": {
          "base_uri": "https://localhost:8080/"
        },
        "id": "havXuEqP9Hg-",
        "outputId": "85cc1565-4dc2-4002-8e12-a5e9c77336e6"
      },
      "execution_count": null,
      "outputs": [
        {
          "output_type": "stream",
          "name": "stdout",
          "text": [
            "3\n"
          ]
        }
      ]
    },
    {
      "cell_type": "code",
      "source": [
        "from time import sleep\n",
        "import math\n",
        "def delay(fn, ms, *args):\n",
        "  sleep(ms / 1000)\n",
        "  return fn(*args)\n",
        "print(\"Square root after specific miliseconds:\") \n",
        "print(delay(lambda x: math.sqrt(x), 100, 16))\n",
        "print(delay(lambda x: math.sqrt(x), 1000, 100))\n",
        "print(delay(lambda x: math.sqrt(x), 2000, 25100))\n"
      ],
      "metadata": {
        "colab": {
          "base_uri": "https://localhost:8080/"
        },
        "id": "80P6K2rg9LFF",
        "outputId": "8f921251-3d97-4588-e473-b43071a16fa7"
      },
      "execution_count": null,
      "outputs": [
        {
          "output_type": "stream",
          "name": "stdout",
          "text": [
            "Square root after specific miliseconds:\n",
            "4.0\n",
            "10.0\n",
            "158.42979517754858\n"
          ]
        }
      ]
    },
    {
      "cell_type": "code",
      "source": [
        "print (\"choice 1:add, 2:sub, 3:div, 4:mul, 5:quit\")\n",
        "n1=input(\"enter the choice ofoperation:\")\n",
        "n=int(n1)\n",
        "if(n==1):\n",
        "  print(\"you have chosen addition option:\")\n",
        "  a1=input(\"enter the value for a:\")\n",
        "  b1=input(\"enter the value for b:\")\n",
        "  a=int(a1)\n",
        "  b=int(b1)\n",
        "  c=a+b\n",
        "  print(\"the result\",a,\"+\",b,\"=\",c)\n",
        "elif(n==2):\n",
        "  print(\"you have chosen subraction option:\")\n",
        "  a1=input(\"enter the value for a:\")\n",
        "  b1=input(\"enter the value for b:\")\n",
        "  a=int(a1)\n",
        "  b=int(b1)\n",
        "  c=a-b\n",
        "  print(\"the result\",a,\"-\",b,\"=\",c)\n",
        "elif(n==3):\n",
        "  print(\"you have chosen division option:\")\n",
        "  a1=input(\"enter the value for a:\")\n",
        "  b1=input(\"enter the value for b:\")\n",
        "  a=int(a1)\n",
        "  b=int(b1)\n",
        "  c=a/b\n",
        "  print(\"the result\",a,\"/\",b,\"=\",c)\n",
        "elif(n==4):\n",
        "  print(\"you have chosen multiplication option:\")\n",
        "  a1=input(\"enter the value for a:\")\n",
        "  b1=input(\"enter the value for b:\")\n",
        "  a=int(a1)\n",
        "  b=int(b1)\n",
        "  c=a*b\n",
        "  print(\"the result\",a,\"*\",b,\"=\",c)\n",
        "elif(n==5):\n",
        "  print(\"you have given a wrong:\",n)\n",
        "  exit()"
      ],
      "metadata": {
        "colab": {
          "base_uri": "https://localhost:8080/"
        },
        "id": "Vf68eKS2AMp-",
        "outputId": "4e62a711-5c0f-4d8a-b2ea-fd22fe4fc441"
      },
      "execution_count": null,
      "outputs": [
        {
          "output_type": "stream",
          "name": "stdout",
          "text": [
            "choice 1:add, 2:sub, 3:div, 4:mul, 5:quit\n",
            "enter the choice ofoperation:4\n",
            "you have chosen multiplication option:\n",
            "enter the value for a:5\n",
            "enter the value for b:6\n",
            "the result 5 * 6 = 30\n"
          ]
        }
      ]
    },
    {
      "cell_type": "code",
      "source": [
        "#boolean expression\n",
        "a=True\n",
        "b=False\n",
        "print('a= ',a,'b= ',b)\n",
        "a=False;\n",
        "print('a= ',a,'b= ',b)"
      ],
      "metadata": {
        "id": "rauOrtVtjFyu",
        "outputId": "c9e11c8c-648b-4078-c154-5a520a87a8f7",
        "colab": {
          "base_uri": "https://localhost:8080/"
        }
      },
      "execution_count": null,
      "outputs": [
        {
          "output_type": "stream",
          "name": "stdout",
          "text": [
            "a=  True b=  False\n",
            "a=  False b=  False\n"
          ]
        }
      ]
    },
    {
      "cell_type": "code",
      "source": [
        "#nested loop\n",
        "print(\"     1  2  3  4  5  6  7  8  9  10\")\n",
        "print(\"    <---------------------------->\")\n",
        "for row in range(1,11):\n",
        "  if row<10:\n",
        "    print(\" \",end=\" \")\n",
        "    for column in range(1,11):\n",
        "      product=row*column;\n",
        "      if product<100:\n",
        "        print(end=\" \")\n",
        "      if product<10:\n",
        "        print(end=\" \")\n",
        "      print(product,end=\" \")\n",
        "    print()"
      ],
      "metadata": {
        "id": "i5e0s-n7jF8D",
        "outputId": "71d3d29b-ff7f-4746-96f3-d8da350427b8",
        "colab": {
          "base_uri": "https://localhost:8080/"
        }
      },
      "execution_count": null,
      "outputs": [
        {
          "output_type": "stream",
          "name": "stdout",
          "text": [
            "     1  2  3  4  5  6  7  8  9  10\n",
            "    <---------------------------->\n",
            "    1   2   3   4   5   6   7   8   9  10 \n",
            "    2   4   6   8  10  12  14  16  18  20 \n",
            "    3   6   9  12  15  18  21  24  27  30 \n",
            "    4   8  12  16  20  24  28  32  36  40 \n",
            "    5  10  15  20  25  30  35  40  45  50 \n",
            "    6  12  18  24  30  36  42  48  54  60 \n",
            "    7  14  21  28  35  42  49  56  63  70 \n",
            "    8  16  24  32  40  48  56  64  72  80 \n",
            "    9  18  27  36  45  54  63  72  81  90 \n"
          ]
        }
      ]
    },
    {
      "cell_type": "code",
      "source": [
        "#while \n",
        "entry=0\n",
        "sum=0\n",
        "print(\"Enter numbers to sum, negative number ends list: \")\n",
        "while entry >=0:\n",
        "  entry =eval(input())\n",
        "  if entry >=0:\n",
        "    sum+=entry\n",
        "print(\"sum=\",sum)"
      ],
      "metadata": {
        "id": "RzIZZn86jF-o",
        "outputId": "dc4cd0f4-9f85-48cd-e985-ededabe99531",
        "colab": {
          "base_uri": "https://localhost:8080/"
        }
      },
      "execution_count": null,
      "outputs": [
        {
          "output_type": "stream",
          "name": "stdout",
          "text": [
            "Enter numbers to sum, negative number ends list: \n",
            "2\n",
            "2\n",
            "2\n",
            "-2\n",
            "sum= 6\n"
          ]
        }
      ]
    },
    {
      "cell_type": "code",
      "source": [
        "#elif statement\n",
        "value=eval(input(\"Please enter an integer in the range 0....5: \"))\n",
        "if value<0:\n",
        "  print(\"To0o small\")\n",
        "else:\n",
        "  if value ==0:\n",
        "    print(\"zero\")\n",
        "  else:\n",
        "    if value==1:\n",
        "      print(\"one\")\n",
        "    else:\n",
        "      if value ==2:\n",
        "        print(\"two\")\n",
        "      else:\n",
        "        if value==3:\n",
        "          print(\"three\")\n",
        "        else:\n",
        "          if value==4:\n",
        "            print(\"four\")\n",
        "          else:\n",
        "            if value==5:\n",
        "              print(\"five\")\n",
        "            else:\n",
        "              print(\"too large\")\n",
        "  print(\"done\")"
      ],
      "metadata": {
        "id": "3V_FZ_F0jGBh",
        "outputId": "9053efb3-cfda-4413-e2ba-d607e0f84663",
        "colab": {
          "base_uri": "https://localhost:8080/"
        }
      },
      "execution_count": null,
      "outputs": [
        {
          "output_type": "stream",
          "name": "stdout",
          "text": [
            "Please enter an integer in the range 0....5: 4\n",
            "four\n",
            "done\n"
          ]
        }
      ]
    },
    {
      "cell_type": "code",
      "source": [
        "#Declare a variable\n",
        "Number=25\n",
        "Name=\"Kiran\"\n",
        "B=3.5\n",
        "print(Number)\n",
        "print(Name)\n",
        "print(B)"
      ],
      "metadata": {
        "colab": {
          "base_uri": "https://localhost:8080/"
        },
        "id": "UBAbuOKwLeA8",
        "outputId": "8793df02-f5fe-4b7c-907c-cd78e1faac56"
      },
      "execution_count": 1,
      "outputs": [
        {
          "output_type": "stream",
          "name": "stdout",
          "text": [
            "25\n",
            "Kiran\n",
            "3.5\n"
          ]
        }
      ]
    },
    {
      "cell_type": "code",
      "source": [
        "#Redeclare a variable\n",
        "Name=\"Python\"\n",
        "print(Name)"
      ],
      "metadata": {
        "colab": {
          "base_uri": "https://localhost:8080/"
        },
        "id": "Xmar2xMBLnJT",
        "outputId": "1ceb2984-2e0b-4d24-8df0-9a3e0fdb5672"
      },
      "execution_count": 2,
      "outputs": [
        {
          "output_type": "stream",
          "name": "stdout",
          "text": [
            "Python\n"
          ]
        }
      ]
    },
    {
      "cell_type": "code",
      "source": [
        "#Multiple assignment\n",
        "x=y=z=\"SoftwareTestingHelp\"\n",
        "print(x)\n",
        "print(y)\n",
        "print(z)\n",
        "a,b,c=5,3.2,\"Hello\"\n",
        "print(a)\n",
        "print(b)\n",
        "print(c)"
      ],
      "metadata": {
        "colab": {
          "base_uri": "https://localhost:8080/"
        },
        "id": "YlrEq1owL1Ic",
        "outputId": "d3886afd-1a7a-4987-a4d9-28e72f73a689"
      },
      "execution_count": 3,
      "outputs": [
        {
          "output_type": "stream",
          "name": "stdout",
          "text": [
            "SoftwareTestingHelp\n",
            "SoftwareTestingHelp\n",
            "SoftwareTestingHelp\n",
            "5\n",
            "3.2\n",
            "Hello\n"
          ]
        }
      ]
    },
    {
      "cell_type": "code",
      "source": [
        "#Numbers\n",
        "a=5\n",
        "print(a,\"is of type\",type(a))"
      ],
      "metadata": {
        "colab": {
          "base_uri": "https://localhost:8080/"
        },
        "id": "oZU-wWA2MobY",
        "outputId": "189ee8ae-bfa7-4915-a06c-1d6f6eaa6f41"
      },
      "execution_count": 4,
      "outputs": [
        {
          "output_type": "stream",
          "name": "stdout",
          "text": [
            "5 is of type <class 'int'>\n"
          ]
        }
      ]
    },
    {
      "cell_type": "code",
      "source": [
        "#String\n",
        "String1=\"Welcome\"\n",
        "String2=\"To python\"\n",
        "print(String1+String2)\n",
        "#slicing\n",
        "print(String1[2:5])"
      ],
      "metadata": {
        "colab": {
          "base_uri": "https://localhost:8080/"
        },
        "id": "-50e7gocM2Oc",
        "outputId": "37d356e8-0a21-4268-f6f4-30247d1daf56"
      },
      "execution_count": 5,
      "outputs": [
        {
          "output_type": "stream",
          "name": "stdout",
          "text": [
            "WelcomeTo python\n",
            "lco\n"
          ]
        }
      ]
    },
    {
      "cell_type": "code",
      "source": [
        "#List\n",
        "List=[2,4,5,5,\"Hi\"]\n",
        "print(\"List[2]\",List[2])"
      ],
      "metadata": {
        "colab": {
          "base_uri": "https://localhost:8080/"
        },
        "id": "r8NsK1VzNQNt",
        "outputId": "10f27abf-18fd-4d96-83a7-941dbb854629"
      },
      "execution_count": 6,
      "outputs": [
        {
          "output_type": "stream",
          "name": "stdout",
          "text": [
            "List[2] 5\n"
          ]
        }
      ]
    },
    {
      "cell_type": "code",
      "source": [
        "#Tuple\n",
        "Tuple=(50,15,25.6,\"Python\")\n",
        "print(\"Tuple[1]=\",Tuple[1])"
      ],
      "metadata": {
        "colab": {
          "base_uri": "https://localhost:8080/"
        },
        "id": "Nl0xdcgdNpo8",
        "outputId": "d8e00c88-8cb2-4c07-cd31-acccb80d2369"
      },
      "execution_count": 7,
      "outputs": [
        {
          "output_type": "stream",
          "name": "stdout",
          "text": [
            "Tuple[1]= 15\n"
          ]
        }
      ]
    },
    {
      "cell_type": "code",
      "source": [
        "#Set\n",
        "Set={5,1,2.6,\"python\"}\n",
        "print(Set)"
      ],
      "metadata": {
        "colab": {
          "base_uri": "https://localhost:8080/"
        },
        "id": "9-iThv2tNvR0",
        "outputId": "923eb400-d3d8-47c3-a891-314636ba015d"
      },
      "execution_count": 8,
      "outputs": [
        {
          "output_type": "stream",
          "name": "stdout",
          "text": [
            "{'python', 1, 2.6, 5}\n"
          ]
        }
      ]
    },
    {
      "cell_type": "code",
      "source": [
        "#Dictionary\n",
        "Dict={1:'Hi',2:7.5,3:'Class'}\n",
        "print(Dict)"
      ],
      "metadata": {
        "colab": {
          "base_uri": "https://localhost:8080/"
        },
        "id": "23cSA2Z1Nzuo",
        "outputId": "b72ec4bb-d6b0-4ac9-8df3-fec8c875430c"
      },
      "execution_count": 9,
      "outputs": [
        {
          "output_type": "stream",
          "name": "stdout",
          "text": [
            "{1: 'Hi', 2: 7.5, 3: 'Class'}\n"
          ]
        }
      ]
    },
    {
      "cell_type": "code",
      "source": [
        "#Arithmetic operators\n",
        "x=15\n",
        "y=10\n",
        "print('x+y=',x+y)\n",
        "print('x-y=',x-y)\n",
        "print('x*y=',x*y)\n",
        "print('x/y=',x/y)\n",
        "print('x//y=',x//y)"
      ],
      "metadata": {
        "colab": {
          "base_uri": "https://localhost:8080/"
        },
        "id": "OlBuqWPeOIRs",
        "outputId": "1bea5aec-22a5-4ccc-fc63-b564ea9eb477"
      },
      "execution_count": 10,
      "outputs": [
        {
          "output_type": "stream",
          "name": "stdout",
          "text": [
            "x+y= 25\n",
            "x-y= 5\n",
            "x*y= 150\n",
            "x/y= 1.5\n",
            "x//y= 1\n"
          ]
        }
      ]
    },
    {
      "cell_type": "code",
      "source": [
        "#comparison Operators\n",
        "x=8\n",
        "y=15\n",
        "print('x>y is',x>y)\n",
        "print('x<y is',x<y)\n",
        "print('x==y is',x==y)\n",
        "print('x!=y is',x!=y)\n",
        "print('x>=y is',x>=y)\n",
        "print('x<=y is',x<=y)"
      ],
      "metadata": {
        "colab": {
          "base_uri": "https://localhost:8080/"
        },
        "id": "0qy5Z0g8OKpE",
        "outputId": "b9b95211-1577-46be-9b56-dc82eee8ea53"
      },
      "execution_count": 11,
      "outputs": [
        {
          "output_type": "stream",
          "name": "stdout",
          "text": [
            "x>y is False\n",
            "x<y is True\n",
            "x==y is False\n",
            "x!=y is True\n",
            "x>=y is False\n",
            "x<=y is True\n"
          ]
        }
      ]
    },
    {
      "cell_type": "code",
      "source": [
        "#logical operators\n",
        "a=True\n",
        "b=False\n",
        "print('a and b is',a and b)\n",
        "print('a or b is',a and b)\n",
        "print('a not b is',a and b)"
      ],
      "metadata": {
        "colab": {
          "base_uri": "https://localhost:8080/"
        },
        "id": "HAHIECe3OgcO",
        "outputId": "60eeb02a-5313-4fab-8de3-f24b2d2196e6"
      },
      "execution_count": 12,
      "outputs": [
        {
          "output_type": "stream",
          "name": "stdout",
          "text": [
            "a and b is False\n",
            "a or b is False\n",
            "a not b is False\n"
          ]
        }
      ]
    },
    {
      "cell_type": "code",
      "source": [
        "#identity operator\n",
        "a1=3\n",
        "b1=3\n",
        "a2=\"Python\"\n",
        "b2=\"Python\"\n",
        "a3=[4,5,6]\n",
        "b3=[4,5,6]\n",
        "print(a1 is not b1)\n",
        "print(a2 is b2)\n",
        "print(a3 is b3)"
      ],
      "metadata": {
        "colab": {
          "base_uri": "https://localhost:8080/"
        },
        "id": "RqImNqUdO069",
        "outputId": "db9f7066-e4dd-41ed-a34b-12f19123ca2e"
      },
      "execution_count": 13,
      "outputs": [
        {
          "output_type": "stream",
          "name": "stdout",
          "text": [
            "False\n",
            "True\n",
            "False\n"
          ]
        }
      ]
    },
    {
      "cell_type": "code",
      "source": [
        "#Membership operator\n",
        "a=\"Python operators\"\n",
        "b={1:'x',2:'y'}\n",
        "print(\"P\" in a)\n",
        "print(1 in b)\n",
        "print('y' in b)"
      ],
      "metadata": {
        "colab": {
          "base_uri": "https://localhost:8080/"
        },
        "id": "KadUU6wSO9d1",
        "outputId": "c7a03f96-5355-4101-ff16-b6638409a584"
      },
      "execution_count": 14,
      "outputs": [
        {
          "output_type": "stream",
          "name": "stdout",
          "text": [
            "True\n",
            "True\n",
            "False\n"
          ]
        }
      ]
    },
    {
      "cell_type": "code",
      "source": [
        "#if statement\n",
        "num=5\n",
        "if( num<10):\n",
        "  print(\"Num is smaller than 10\")"
      ],
      "metadata": {
        "colab": {
          "base_uri": "https://localhost:8080/"
        },
        "id": "T7C_HnWTPBwF",
        "outputId": "d5c2f3f5-4566-41a8-807d-792f46270ab4"
      },
      "execution_count": 15,
      "outputs": [
        {
          "output_type": "stream",
          "name": "stdout",
          "text": [
            "Num is smaller than 10\n"
          ]
        }
      ]
    },
    {
      "cell_type": "code",
      "source": [
        "#if-else statement\n",
        "num=5\n",
        "if(num>10):\n",
        "  print(\"number is greater than 10\")\n",
        "else:\n",
        "  print(\"number is less than 10\")"
      ],
      "metadata": {
        "colab": {
          "base_uri": "https://localhost:8080/"
        },
        "id": "u26nXt0yPFM1",
        "outputId": "1f5dfb84-9e5e-4d41-ebed-23f42a37b66f"
      },
      "execution_count": 16,
      "outputs": [
        {
          "output_type": "stream",
          "name": "stdout",
          "text": [
            "number is less than 10\n"
          ]
        }
      ]
    },
    {
      "cell_type": "code",
      "source": [
        "#elif statements\n",
        "num=10\n",
        "if(num==0):\n",
        "  print(\"Number is Zero\")\n",
        "elif(num>5):\n",
        "  print(\"Number is greater than 5\")\n",
        "else:\n",
        "  print(\"Number is smaller than 5\")"
      ],
      "metadata": {
        "colab": {
          "base_uri": "https://localhost:8080/"
        },
        "id": "kH-ghXTZPI9_",
        "outputId": "11c1ffe7-1372-43ea-8386-c5822f1233fb"
      },
      "execution_count": 17,
      "outputs": [
        {
          "output_type": "stream",
          "name": "stdout",
          "text": [
            "Number is greater than 5\n"
          ]
        }
      ]
    },
    {
      "cell_type": "code",
      "source": [
        "#nested if-else statements\n",
        "num=5\n",
        "if(num>0):\n",
        "  print(\"number is positive\")\n",
        "if(num<10):\n",
        "  print(\"number is less than 10\")"
      ],
      "metadata": {
        "colab": {
          "base_uri": "https://localhost:8080/"
        },
        "id": "7ikxa97oPNMU",
        "outputId": "d9a717f3-8a9b-481a-8835-35e252aab03a"
      },
      "execution_count": 18,
      "outputs": [
        {
          "output_type": "stream",
          "name": "stdout",
          "text": [
            "number is positive\n",
            "number is less than 10\n"
          ]
        }
      ]
    },
    {
      "cell_type": "code",
      "source": [
        "#elif ladder\n",
        "my_marks=90\n",
        "if(my_marks<35):\n",
        "  print(\"Sorry!,You failed the exam\")\n",
        "elif(my_marks>60 and my_marks>100):\n",
        "  print(\"Passed in First class\")\n",
        "else:\n",
        "  print(\"Passed in First class\")"
      ],
      "metadata": {
        "colab": {
          "base_uri": "https://localhost:8080/"
        },
        "id": "g01ubqdpPQiF",
        "outputId": "343d0cce-3a4b-45a4-806d-a182a1347586"
      },
      "execution_count": 19,
      "outputs": [
        {
          "output_type": "stream",
          "name": "stdout",
          "text": [
            "Passed in First class\n"
          ]
        }
      ]
    },
    {
      "cell_type": "code",
      "source": [
        ""
      ],
      "metadata": {
        "id": "EvIXlplaPT3V"
      },
      "execution_count": null,
      "outputs": []
    }
  ]
}