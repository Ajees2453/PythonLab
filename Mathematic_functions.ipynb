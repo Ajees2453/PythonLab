{
  "nbformat": 4,
  "nbformat_minor": 0,
  "metadata": {
    "colab": {
      "name": "Mathematic functions.ipynb",
      "provenance": [],
      "authorship_tag": "ABX9TyO93mpg3dsZkUTuYuAh2RrY",
      "include_colab_link": true
    },
    "kernelspec": {
      "name": "python3",
      "display_name": "Python 3"
    },
    "language_info": {
      "name": "python"
    }
  },
  "cells": [
    {
      "cell_type": "markdown",
      "metadata": {
        "id": "view-in-github",
        "colab_type": "text"
      },
      "source": [
        "<a href=\"https://colab.research.google.com/github/Ajees2453/PythonLab/blob/main/Mathematic_functions.ipynb\" target=\"_parent\"><img src=\"https://colab.research.google.com/assets/colab-badge.svg\" alt=\"Open In Colab\"/></a>"
      ]
    },
    {
      "cell_type": "code",
      "execution_count": null,
      "metadata": {
        "colab": {
          "base_uri": "https://localhost:8080/"
        },
        "id": "lEqsLJpVnQqG",
        "outputId": "d6845d0e-3b41-4075-9e8f-fd43716cb73c"
      },
      "outputs": [
        {
          "output_type": "stream",
          "name": "stdout",
          "text": [
            "The Floor and Ceiling value of 23.56 are: 24, 23\n",
            "The value of x after copying the sign from y is: -10.0\n",
            "Absolute value of -96 and 56 are: 96.0, 56.0\n",
            "Sum of the elements of the list: 42.13999999999999\n",
            "The GCD of 24 and 56 : 8\n",
            "It is not a number\n",
            "It is Infinity\n",
            "False\n",
            "True\n"
          ]
        }
      ],
      "source": [
        "import math\n",
        "print('The Floor and Ceiling value of 23.56 are: ' + str(math.ceil(23.56)) + ', ' + str(math.floor(23.56)))\n",
        "x = 10\n",
        "y = -15\n",
        "print('The value of x after copying the sign from y is: ' + str(math.copysign(x, y)))\n",
        "print('Absolute value of -96 and 56 are: ' + str(math.fabs(-96)) + ', ' + str(math.fabs(56)))\n",
        "my_list = [12, 4.25, 89, 3.02, -65.23, -7.2, 6.3]\n",
        "print('Sum of the elements of the list: ' + str(math.fsum(my_list)))\n",
        "print('The GCD of 24 and 56 : ' + str(math.gcd(24, 56)))\n",
        "x = float('nan')\n",
        "if math.isnan(x):\n",
        "    print('It is not a number')\n",
        "x = float('inf')\n",
        "y = 45\n",
        "if math.isinf(x):\n",
        "    print('It is Infinity')\n",
        "print(math.isfinite(x)) #x is not a finite number\n",
        "print(math.isfinite(y)) #y is a finite number"
      ]
    }
  ]
}